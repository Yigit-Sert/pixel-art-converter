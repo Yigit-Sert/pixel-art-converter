# Import necessary libraries
from PIL import Image
import matplotlib.pyplot as plt
from google.colab import files

# Step 1: Ask the user to upload an image
uploaded = files.upload()

# Step 2: Open the uploaded image
image_path = next(iter(uploaded))  # Assuming only one file is uploaded
image = Image.open(image_path)

# Step 3: Resize the image to 35x25 and then scale it back up (to create the pixel art effect)
def convert_to_pixel_art(image, pixel_width=35, pixel_height=25):
    # Resize the image to 35x25
    img_small = image.resize((pixel_width, pixel_height), resample=Image.NEAREST)
    # Scale the small image back to the original size (to see the pixel effect)
    img_pixel_art = img_small.resize(image.size, resample=Image.NEAREST)
    return img_pixel_art

# Create the pixel art image
pixel_art_image = convert_to_pixel_art(image)

# Step 4: Display the original and pixel art images side by side
plt.figure(figsize=(8, 6))

# Original Image
plt.subplot(1, 2, 1)
plt.imshow(image)
plt.title("Original Image")
plt.axis('off')

# Pixel Art Image
plt.subplot(1, 2, 2)
plt.imshow(pixel_art_image)
plt.title("Pixel Art Image")
plt.axis('off')

plt.show()

# Step 5: Save the pixel art image and make it downloadable
output_path = "/content/pixel_art_output.png"
pixel_art_image.save(output_path)

# Create a download link
files.download(output_path)
